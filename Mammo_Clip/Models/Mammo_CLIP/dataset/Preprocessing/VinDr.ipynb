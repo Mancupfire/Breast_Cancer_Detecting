{
 "cells": [
  {
   "cell_type": "code",
   "execution_count": 1,
   "id": "dd2ded6a",
   "metadata": {},
   "outputs": [],
   "source": [
    "import pandas as pd\n",
    "from pathlib import Path\n",
    "import re\n",
    "import nltk\n",
    "import numpy as np\n",
    "from collections import defaultdict\n",
    "import ast"
   ]
  },
  {
   "cell_type": "code",
   "execution_count": null,
   "id": "e0c66ba5",
   "metadata": {},
   "outputs": [],
   "source": [
    "_dir = Path(\"/restricted/projectnb/batmanlab/shawn24/PhD/Mammo-CLIP/src/codebase/data_csv\")\n",
    "csv = _dir/\"vindr_detection_v1_folds.csv\"\n",
    "\n",
    "df = pd.read_csv(csv)\n",
    "print(csv)\n",
    "print(df.columns)\n",
    "df.head(5)"
   ]
  },
  {
   "cell_type": "code",
   "execution_count": null,
   "id": "4c62908b",
   "metadata": {},
   "outputs": [],
   "source": []
  }
 ],
 "metadata": {
  "kernelspec": {
   "display_name": "Python 3",
   "language": "python",
   "name": "python3"
  },
  "language_info": {
   "codemirror_mode": {
    "name": "ipython",
    "version": 3
   },
   "file_extension": ".py",
   "mimetype": "text/x-python",
   "name": "python",
   "nbconvert_exporter": "python",
   "pygments_lexer": "ipython3",
   "version": "3.12.4"
  }
 },
 "nbformat": 4,
 "nbformat_minor": 5
}
